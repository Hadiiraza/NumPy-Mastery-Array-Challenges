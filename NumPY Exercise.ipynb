{
 "cells": [
  {
   "cell_type": "code",
   "execution_count": 1,
   "id": "d343c9e6",
   "metadata": {},
   "outputs": [],
   "source": [
    "import numpy as np"
   ]
  },
  {
   "cell_type": "markdown",
   "id": "26c7e276",
   "metadata": {},
   "source": [
    "## Array Creation"
   ]
  },
  {
   "cell_type": "code",
   "execution_count": 2,
   "id": "55b96a32",
   "metadata": {},
   "outputs": [
    {
     "name": "stdout",
     "output_type": "stream",
     "text": [
      "Task 1: [0. 0. 0. 0. 0. 0. 0. 0. 0. 0.]\n"
     ]
    }
   ],
   "source": [
    "# Question 1\n",
    "arr_zeros = np.zeros(10)\n",
    "print(\"Task 1:\", arr_zeros)\n"
   ]
  },
  {
   "cell_type": "code",
   "execution_count": 3,
   "id": "e87b8464",
   "metadata": {},
   "outputs": [
    {
     "name": "stdout",
     "output_type": "stream",
     "text": [
      "\n",
      "Task 2: [10. 11. 12. 13. 14. 15. 16. 17. 18. 19. 20. 21. 22. 23. 24. 25. 26. 27.\n",
      " 28. 29. 30. 31. 32. 33. 34. 35. 36. 37. 38. 39. 40. 41. 42. 43. 44. 45.\n",
      " 46. 47. 48. 49.]\n"
     ]
    }
   ],
   "source": [
    "# Question 2\n",
    "arr_float = np.arange(10, 50, dtype=float)\n",
    "print(\"\\nTask 2:\", arr_float)\n"
   ]
  },
  {
   "cell_type": "code",
   "execution_count": 4,
   "id": "6337316d",
   "metadata": {},
   "outputs": [
    {
     "name": "stdout",
     "output_type": "stream",
     "text": [
      "\n",
      "Task 3: [[1 1]\n",
      " [1 1]]\n"
     ]
    }
   ],
   "source": [
    "# Question 3\n",
    "matrix_ones_int = np.ones((2, 2), dtype=int)\n",
    "print(\"\\nTask 3:\", matrix_ones_int)\n"
   ]
  },
  {
   "cell_type": "code",
   "execution_count": 5,
   "id": "6945e5ed",
   "metadata": {},
   "outputs": [
    {
     "name": "stdout",
     "output_type": "stream",
     "text": [
      "\n",
      "Task 4: [[1. 1.]\n",
      " [1. 1.]\n",
      " [1. 1.]]\n"
     ]
    }
   ],
   "source": [
    "# Question 4\n",
    "matrix_ones_float = np.ones((3, 2), dtype=float)\n",
    "print(\"\\nTask 4:\", matrix_ones_float)\n"
   ]
  },
  {
   "cell_type": "code",
   "execution_count": 6,
   "id": "d3594250",
   "metadata": {},
   "outputs": [
    {
     "name": "stdout",
     "output_type": "stream",
     "text": [
      "\n",
      "Task 5: [[1 1 1]\n",
      " [1 1 1]]\n"
     ]
    }
   ],
   "source": [
    "# Question 5\n",
    "X = np.array([[1, 2, 3], [4, 5, 6]])\n",
    "ones_like_X = np.ones_like(X)\n",
    "print(\"\\nTask 5:\", ones_like_X)\n"
   ]
  },
  {
   "cell_type": "code",
   "execution_count": 7,
   "id": "3a7dfb7e",
   "metadata": {},
   "outputs": [
    {
     "name": "stdout",
     "output_type": "stream",
     "text": [
      "\n",
      "Task 6: [[0 0 0]\n",
      " [0 0 0]]\n"
     ]
    }
   ],
   "source": [
    "# Question 6\n",
    "X = np.array([[1, 2, 3], [4, 5, 6]])\n",
    "zeros_like_X = np.zeros_like(X)\n",
    "print(\"\\nTask 6:\", zeros_like_X)\n"
   ]
  },
  {
   "cell_type": "code",
   "execution_count": 8,
   "id": "150d48d1",
   "metadata": {},
   "outputs": [
    {
     "name": "stdout",
     "output_type": "stream",
     "text": [
      "\n",
      "Task 7: [[5 5 5 5]\n",
      " [5 5 5 5]\n",
      " [5 5 5 5]\n",
      " [5 5 5 5]]\n"
     ]
    }
   ],
   "source": [
    "# Question 7\n",
    "matrix_fives = np.full((4, 4), 5, dtype=int)\n",
    "print(\"\\nTask 7:\", matrix_fives)\n"
   ]
  },
  {
   "cell_type": "code",
   "execution_count": 9,
   "id": "f64f7cf6",
   "metadata": {},
   "outputs": [
    {
     "name": "stdout",
     "output_type": "stream",
     "text": [
      "\n",
      "Task 8: [[7 7 7]\n",
      " [7 7 7]]\n"
     ]
    }
   ],
   "source": [
    "# Question 8\n",
    "X = np.array([[1, 2, 3], [4, 5, 6]])\n",
    "sevens_like_X = np.full_like(X, 7)\n",
    "print(\"\\nTask 8:\", sevens_like_X)\n"
   ]
  },
  {
   "cell_type": "code",
   "execution_count": 10,
   "id": "35eefadb",
   "metadata": {},
   "outputs": [
    {
     "name": "stdout",
     "output_type": "stream",
     "text": [
      "\n",
      "Task 9: [[1. 0. 0.]\n",
      " [0. 1. 0.]\n",
      " [0. 0. 1.]]\n"
     ]
    }
   ],
   "source": [
    "# Question 9\n",
    "identity_matrix = np.eye(3)\n",
    "print(\"\\nTask 9:\", identity_matrix)\n"
   ]
  },
  {
   "cell_type": "code",
   "execution_count": 11,
   "id": "4a7ec1bc",
   "metadata": {},
   "outputs": [
    {
     "name": "stdout",
     "output_type": "stream",
     "text": [
      "\n",
      "Task 10: [8 4 4]\n"
     ]
    }
   ],
   "source": [
    "# Question 10\n",
    "random_integers = np.random.randint(1, 11, 3)\n",
    "print(\"\\nTask 10:\", random_integers)\n"
   ]
  },
  {
   "cell_type": "code",
   "execution_count": 12,
   "id": "5197351d",
   "metadata": {},
   "outputs": [
    {
     "name": "stdout",
     "output_type": "stream",
     "text": [
      "\n",
      "Task 11: [[[0.8991536  0.50905263 0.20059486]\n",
      "  [0.53244458 0.38670698 0.67000123]\n",
      "  [0.70250863 0.89907192 0.0350216 ]]\n",
      "\n",
      " [[0.86289647 0.96120923 0.60601655]\n",
      "  [0.99821215 0.80781624 0.52970514]\n",
      "  [0.24810127 0.70253906 0.31373547]]\n",
      "\n",
      " [[0.73215569 0.13366837 0.65212751]\n",
      "  [0.31922563 0.48390611 0.44220835]\n",
      "  [0.21022604 0.76129532 0.52199606]]]\n"
     ]
    }
   ],
   "source": [
    "# Question 11\n",
    "random_floats = np.random.rand(3, 3, 3)\n",
    "print(\"\\nTask 11:\", random_floats)\n"
   ]
  },
  {
   "cell_type": "code",
   "execution_count": 13,
   "id": "7997dd03",
   "metadata": {},
   "outputs": [
    {
     "name": "stdout",
     "output_type": "stream",
     "text": [
      "\n",
      "Task 12: [ 1  2  3  4  5  6  7  8  9 10]\n"
     ]
    }
   ],
   "source": [
    "# Question 12\n",
    "arr_1_to_10 = np.arange(1, 11)\n",
    "print(\"\\nTask 12:\", arr_1_to_10)\n"
   ]
  },
  {
   "cell_type": "code",
   "execution_count": 14,
   "id": "aaea1cdc",
   "metadata": {},
   "outputs": [
    {
     "name": "stdout",
     "output_type": "stream",
     "text": [
      "\n",
      "Task 13: [1 3 5 7 9]\n"
     ]
    }
   ],
   "source": [
    "# Question 13\n",
    "arr_odd_numbers = np.arange(1, 11, 2)\n",
    "print(\"\\nTask 13:\", arr_odd_numbers)\n"
   ]
  },
  {
   "cell_type": "code",
   "execution_count": 15,
   "id": "e1f8372a",
   "metadata": {},
   "outputs": [
    {
     "name": "stdout",
     "output_type": "stream",
     "text": [
      "\n",
      "Task 14: [10  9  8  7  6  5  4  3  2  1]\n"
     ]
    }
   ],
   "source": [
    "# Question 14\n",
    "arr_descending = np.arange(10, 0, -1)\n",
    "print(\"\\nTask 14:\", arr_descending)\n"
   ]
  },
  {
   "cell_type": "code",
   "execution_count": 16,
   "id": "381d7b4e",
   "metadata": {},
   "outputs": [
    {
     "name": "stdout",
     "output_type": "stream",
     "text": [
      "\n",
      "Task 15: [[0 1 2]\n",
      " [3 4 5]\n",
      " [6 7 8]]\n"
     ]
    }
   ],
   "source": [
    "# Question 15\n",
    "matrix_0_to_8 = np.arange(9).reshape(3, 3)\n",
    "print(\"\\nTask 15:\", matrix_0_to_8)\n"
   ]
  },
  {
   "cell_type": "markdown",
   "id": "e5859afc",
   "metadata": {},
   "source": [
    "## Array Indexing"
   ]
  },
  {
   "cell_type": "code",
   "execution_count": 17,
   "id": "7662a36c",
   "metadata": {},
   "outputs": [
    {
     "name": "stdout",
     "output_type": "stream",
     "text": [
      "Task 1: A\n"
     ]
    }
   ],
   "source": [
    "X = np.array(['A', 'B', 'C', 'D', 'E'])\n",
    "first_element = X[0]\n",
    "print(\"Task 1:\", first_element)\n"
   ]
  },
  {
   "cell_type": "code",
   "execution_count": 18,
   "id": "07c2e870",
   "metadata": {},
   "outputs": [
    {
     "name": "stdout",
     "output_type": "stream",
     "text": [
      "\n",
      "Task 2: E\n"
     ]
    }
   ],
   "source": [
    "X = np.array(['A', 'B', 'C', 'D', 'E'])\n",
    "last_element = X[-1]\n",
    "print(\"\\nTask 2:\", last_element)\n"
   ]
  },
  {
   "cell_type": "code",
   "execution_count": 19,
   "id": "b32a20d5",
   "metadata": {},
   "outputs": [
    {
     "name": "stdout",
     "output_type": "stream",
     "text": [
      "\n",
      "Task 3: ['A' 'B' 'C']\n"
     ]
    }
   ],
   "source": [
    "X = np.array(['A', 'B', 'C', 'D', 'E'])\n",
    "first_three_elements = X[:3]\n",
    "print(\"\\nTask 3:\", first_three_elements)\n"
   ]
  },
  {
   "cell_type": "code",
   "execution_count": 20,
   "id": "475f5fae",
   "metadata": {},
   "outputs": [
    {
     "name": "stdout",
     "output_type": "stream",
     "text": [
      "\n",
      "Task 4: ['B' 'C' 'D']\n"
     ]
    }
   ],
   "source": [
    "X = np.array(['A', 'B', 'C', 'D', 'E'])\n",
    "middle_elements = X[1:-1]\n",
    "print(\"\\nTask 4:\", middle_elements)\n"
   ]
  },
  {
   "cell_type": "code",
   "execution_count": 21,
   "id": "15b51d36",
   "metadata": {},
   "outputs": [
    {
     "name": "stdout",
     "output_type": "stream",
     "text": [
      "\n",
      "Task 5: ['E' 'D' 'C' 'B' 'A']\n"
     ]
    }
   ],
   "source": [
    "X = np.array(['A', 'B', 'C', 'D', 'E'])\n",
    "reverse_elements = X[::-1]\n",
    "print(\"\\nTask 5:\", reverse_elements)\n"
   ]
  },
  {
   "cell_type": "code",
   "execution_count": 22,
   "id": "964ddba3",
   "metadata": {},
   "outputs": [
    {
     "name": "stdout",
     "output_type": "stream",
     "text": [
      "\n",
      "Task 6: ['A' 'C' 'E']\n"
     ]
    }
   ],
   "source": [
    "X = np.array(['A', 'B', 'C', 'D', 'E'])\n",
    "odd_position_elements = X[::2]\n",
    "print(\"\\nTask 6:\", odd_position_elements)\n"
   ]
  },
  {
   "cell_type": "code",
   "execution_count": 23,
   "id": "405cd5cd",
   "metadata": {},
   "outputs": [
    {
     "name": "stdout",
     "output_type": "stream",
     "text": [
      "\n",
      "Task 7: [1 2 3 4]\n"
     ]
    }
   ],
   "source": [
    "X = np.array([\n",
    "    [1, 2, 3, 4],\n",
    "    [5, 6, 7, 8],\n",
    "    [9, 10, 11, 12],\n",
    "    [13, 14, 15, 16]\n",
    "])\n",
    "first_row_elements = X[0, :]\n",
    "print(\"\\nTask 7:\", first_row_elements)\n"
   ]
  },
  {
   "cell_type": "code",
   "execution_count": 24,
   "id": "45cc9955",
   "metadata": {},
   "outputs": [
    {
     "name": "stdout",
     "output_type": "stream",
     "text": [
      "\n",
      "Task 8: [13 14 15 16]\n"
     ]
    }
   ],
   "source": [
    "X = np.array([\n",
    "    [1, 2, 3, 4],\n",
    "    [5, 6, 7, 8],\n",
    "    [9, 10, 11, 12],\n",
    "    [13, 14, 15, 16]\n",
    "])\n",
    "last_row_elements = X[-1, :]\n",
    "print(\"\\nTask 8:\", last_row_elements)\n"
   ]
  },
  {
   "cell_type": "code",
   "execution_count": 25,
   "id": "ae85d306",
   "metadata": {},
   "outputs": [
    {
     "name": "stdout",
     "output_type": "stream",
     "text": [
      "\n",
      "Task 9: 1\n"
     ]
    }
   ],
   "source": [
    "X = np.array([\n",
    "    [1, 2, 3, 4],\n",
    "    [5, 6, 7, 8],\n",
    "    [9, 10, 11, 12],\n",
    "    [13, 14, 15, 16]\n",
    "])\n",
    "first_element_first_row = X[0, 0]\n",
    "print(\"\\nTask 9:\", first_element_first_row)\n"
   ]
  },
  {
   "cell_type": "code",
   "execution_count": 26,
   "id": "c5aab3b2",
   "metadata": {},
   "outputs": [
    {
     "name": "stdout",
     "output_type": "stream",
     "text": [
      "\n",
      "Task 10: 16\n"
     ]
    }
   ],
   "source": [
    "X = np.array([\n",
    "    [1, 2, 3, 4],\n",
    "    [5, 6, 7, 8],\n",
    "    [9, 10, 11, 12],\n",
    "    [13, 14, 15, 16]\n",
    "])\n",
    "last_element_last_row = X[-1, -1]\n",
    "print(\"\\nTask 10:\", last_element_last_row)\n"
   ]
  },
  {
   "cell_type": "code",
   "execution_count": 27,
   "id": "fba48efa",
   "metadata": {},
   "outputs": [
    {
     "name": "stdout",
     "output_type": "stream",
     "text": [
      "\n",
      "Task 11: [[1 2]\n",
      " [5 6]]\n"
     ]
    }
   ],
   "source": [
    "X = np.array([\n",
    "    [1, 2, 3, 4],\n",
    "    [5, 6, 7, 8],\n",
    "    [9, 10, 11, 12],\n",
    "    [13, 14, 15, 16]\n",
    "])\n",
    "first_two_elements_first_two_rows = X[:2, :2]\n",
    "print(\"\\nTask 11:\", first_two_elements_first_two_rows)\n"
   ]
  },
  {
   "cell_type": "code",
   "execution_count": 28,
   "id": "d52dc66c",
   "metadata": {},
   "outputs": [
    {
     "name": "stdout",
     "output_type": "stream",
     "text": [
      "\n",
      "Task 12: [[11 12]\n",
      " [15 16]]\n"
     ]
    }
   ],
   "source": [
    "X = np.array([\n",
    "    [1, 2, 3, 4],\n",
    "    [5, 6, 7, 8],\n",
    "    [9, 10, 11, 12],\n",
    "    [13, 14, 15, 16]\n",
    "])\n",
    "last_two_elements_last_two_rows = X[-2:, -2:]\n",
    "print(\"\\nTask 12:\", last_two_elements_last_two_rows)\n"
   ]
  },
  {
   "cell_type": "markdown",
   "id": "06f8331a",
   "metadata": {},
   "source": [
    "## Array Manipulation"
   ]
  },
  {
   "cell_type": "code",
   "execution_count": 29,
   "id": "1d838429",
   "metadata": {},
   "outputs": [
    {
     "name": "stdout",
     "output_type": "stream",
     "text": [
      "Task 1: [-5. -3.  0. 10. 40.]\n"
     ]
    }
   ],
   "source": [
    "# Question 1\n",
    "X = np.array([-5, -3, 0, 10, 40], dtype=float)\n",
    "print(\"Task 1:\", X)\n"
   ]
  },
  {
   "cell_type": "code",
   "execution_count": 30,
   "id": "09a67042",
   "metadata": {},
   "outputs": [
    {
     "name": "stdout",
     "output_type": "stream",
     "text": [
      "\n",
      "Task 2: [40 10  0 -3 -5]\n"
     ]
    }
   ],
   "source": [
    "# Question 2\n",
    "X = np.array([-5, -3, 0, 10, 40])\n",
    "reversed_X = X[::-1]\n",
    "print(\"\\nTask 2:\", reversed_X)\n"
   ]
  },
  {
   "cell_type": "code",
   "execution_count": 31,
   "id": "8eaed0a0",
   "metadata": {},
   "outputs": [
    {
     "name": "stdout",
     "output_type": "stream",
     "text": [
      "\n",
      "Task 3: [0. 0. 0. 0. 1. 0. 0. 0. 0. 0.]\n"
     ]
    }
   ],
   "source": [
    "# Question 3\n",
    "X = np.zeros(10)\n",
    "X[4] = 1\n",
    "print(\"\\nTask 3:\", X)\n"
   ]
  },
  {
   "cell_type": "code",
   "execution_count": 32,
   "id": "83c78034",
   "metadata": {},
   "outputs": [
    {
     "name": "stdout",
     "output_type": "stream",
     "text": [
      "\n",
      "Task 4: [[ 1  2  3  4]\n",
      " [ 5  6  7  8]\n",
      " [ 9 10 11 12]\n",
      " [ 1  1  1  1]]\n"
     ]
    }
   ],
   "source": [
    "# Question 4\n",
    "X = np.array([\n",
    "    [1, 2, 3, 4],\n",
    "    [5, 6, 7, 8],\n",
    "    [9, 10, 11, 12],\n",
    "    [13, 14, 15, 16]\n",
    "])\n",
    "X[-1, :] = 1\n",
    "print(\"\\nTask 4:\", X)\n"
   ]
  },
  {
   "cell_type": "code",
   "execution_count": 33,
   "id": "86e03be0",
   "metadata": {},
   "outputs": [
    {
     "name": "stdout",
     "output_type": "stream",
     "text": [
      "\n",
      "Task 5: [[ 6  7  8  9]\n",
      " [10 11 12 13]\n",
      " [14 15 16 17]\n",
      " [18 19 20 21]]\n"
     ]
    }
   ],
   "source": [
    "# Question 5\n",
    "X = np.array([\n",
    "    [1, 2, 3, 4],\n",
    "    [5, 6, 7, 8],\n",
    "    [9, 10, 11, 12],\n",
    "    [13, 14, 15, 16]\n",
    "])\n",
    "X = X + 5\n",
    "print(\"\\nTask 5:\", X)\n"
   ]
  },
  {
   "cell_type": "markdown",
   "id": "8e0d664e",
   "metadata": {},
   "source": [
    "#                                             Happy Learning!"
   ]
  }
 ],
 "metadata": {
  "kernelspec": {
   "display_name": "Python 3 (ipykernel)",
   "language": "python",
   "name": "python3"
  },
  "language_info": {
   "codemirror_mode": {
    "name": "ipython",
    "version": 3
   },
   "file_extension": ".py",
   "mimetype": "text/x-python",
   "name": "python",
   "nbconvert_exporter": "python",
   "pygments_lexer": "ipython3",
   "version": "3.10.9"
  }
 },
 "nbformat": 4,
 "nbformat_minor": 5
}
